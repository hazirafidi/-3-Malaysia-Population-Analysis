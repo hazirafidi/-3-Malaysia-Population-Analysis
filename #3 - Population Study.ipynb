{
 "cells": [
  {
   "cell_type": "markdown",
   "id": "7969030a",
   "metadata": {},
   "source": [
    "# Analysis and Prediction of Malaysia Population from Demographic data (2010-2019)"
   ]
  },
  {
   "cell_type": "code",
   "execution_count": 1,
   "id": "cd45996b",
   "metadata": {},
   "outputs": [],
   "source": [
    "import numpy as np\n",
    "import pandas as pd\n",
    "import matplotlib.pyplot as plt\n",
    "\n",
    "%matplotlib inline"
   ]
  },
  {
   "cell_type": "code",
   "execution_count": 2,
   "id": "441873c5",
   "metadata": {},
   "outputs": [],
   "source": [
    "# To remove warning sign\n",
    "import pandas as pd\n",
    "pd.options.mode.chained_assignment = None  # default='warn'"
   ]
  },
  {
   "cell_type": "code",
   "execution_count": 3,
   "id": "77733935",
   "metadata": {},
   "outputs": [],
   "source": [
    "df = pd.read_excel(r'C:\\Users\\ASUS\\OneDrive - sjvschoolo.sjvschoolo\\Documents\\Anaconda\\#3\\Population_by_age_group_sex_and_ethnic_group_2010-2019e_Malaysia.xlsx')"
   ]
  },
  {
   "cell_type": "code",
   "execution_count": 4,
   "id": "3231de7b",
   "metadata": {},
   "outputs": [
    {
     "data": {
      "text/html": [
       "<div>\n",
       "<style scoped>\n",
       "    .dataframe tbody tr th:only-of-type {\n",
       "        vertical-align: middle;\n",
       "    }\n",
       "\n",
       "    .dataframe tbody tr th {\n",
       "        vertical-align: top;\n",
       "    }\n",
       "\n",
       "    .dataframe thead th {\n",
       "        text-align: right;\n",
       "    }\n",
       "</style>\n",
       "<table border=\"1\" class=\"dataframe\">\n",
       "  <thead>\n",
       "    <tr style=\"text-align: right;\">\n",
       "      <th></th>\n",
       "      <th>Sex</th>\n",
       "      <th>Age Group</th>\n",
       "      <th>Year</th>\n",
       "      <th>Citizen category</th>\n",
       "      <th>Ethnic</th>\n",
       "      <th>Population (\"000)</th>\n",
       "    </tr>\n",
       "  </thead>\n",
       "  <tbody>\n",
       "    <tr>\n",
       "      <th>0</th>\n",
       "      <td>Male</td>\n",
       "      <td>0-04</td>\n",
       "      <td>2010</td>\n",
       "      <td>Malaysian citizens</td>\n",
       "      <td>Bumiputera</td>\n",
       "      <td>942.030</td>\n",
       "    </tr>\n",
       "    <tr>\n",
       "      <th>1</th>\n",
       "      <td>Male</td>\n",
       "      <td>0-04</td>\n",
       "      <td>2010</td>\n",
       "      <td>Malaysian citizens</td>\n",
       "      <td>Chinese</td>\n",
       "      <td>223.155</td>\n",
       "    </tr>\n",
       "    <tr>\n",
       "      <th>2</th>\n",
       "      <td>Male</td>\n",
       "      <td>0-04</td>\n",
       "      <td>2010</td>\n",
       "      <td>Malaysian citizens</td>\n",
       "      <td>Indians</td>\n",
       "      <td>76.216</td>\n",
       "    </tr>\n",
       "    <tr>\n",
       "      <th>3</th>\n",
       "      <td>Male</td>\n",
       "      <td>0-04</td>\n",
       "      <td>2010</td>\n",
       "      <td>Malaysian citizens</td>\n",
       "      <td>Others</td>\n",
       "      <td>18.894</td>\n",
       "    </tr>\n",
       "    <tr>\n",
       "      <th>4</th>\n",
       "      <td>Male</td>\n",
       "      <td>0-04</td>\n",
       "      <td>2010</td>\n",
       "      <td>Non-Malaysian citizens</td>\n",
       "      <td>NaN</td>\n",
       "      <td>27.892</td>\n",
       "    </tr>\n",
       "  </tbody>\n",
       "</table>\n",
       "</div>"
      ],
      "text/plain": [
       "    Sex Age Group  Year        Citizen category      Ethnic  Population (\"000)\n",
       "0  Male      0-04  2010      Malaysian citizens  Bumiputera            942.030\n",
       "1  Male      0-04  2010      Malaysian citizens     Chinese            223.155\n",
       "2  Male      0-04  2010      Malaysian citizens     Indians             76.216\n",
       "3  Male      0-04  2010      Malaysian citizens      Others             18.894\n",
       "4  Male      0-04  2010  Non-Malaysian citizens         NaN             27.892"
      ]
     },
     "execution_count": 4,
     "metadata": {},
     "output_type": "execute_result"
    }
   ],
   "source": [
    "df.head()"
   ]
  },
  {
   "cell_type": "markdown",
   "id": "52fe293f",
   "metadata": {},
   "source": [
    "Acrtual data retrieved from https://www.dosm.gov.my/v1/index.php?r=column3/accordion&menu_id=amZNeW9vTXRydTFwTXAxSmdDL1J4dz09"
   ]
  },
  {
   "cell_type": "code",
   "execution_count": 5,
   "id": "02da68c5",
   "metadata": {
    "scrolled": true
   },
   "outputs": [
    {
     "data": {
      "text/html": [
       "<div>\n",
       "<style scoped>\n",
       "    .dataframe tbody tr th:only-of-type {\n",
       "        vertical-align: middle;\n",
       "    }\n",
       "\n",
       "    .dataframe tbody tr th {\n",
       "        vertical-align: top;\n",
       "    }\n",
       "\n",
       "    .dataframe thead th {\n",
       "        text-align: right;\n",
       "    }\n",
       "</style>\n",
       "<table border=\"1\" class=\"dataframe\">\n",
       "  <thead>\n",
       "    <tr style=\"text-align: right;\">\n",
       "      <th></th>\n",
       "      <th>Sex</th>\n",
       "      <th>Age Group</th>\n",
       "      <th>Year</th>\n",
       "      <th>Citizen category</th>\n",
       "      <th>Ethnic</th>\n",
       "      <th>Population (000)</th>\n",
       "    </tr>\n",
       "  </thead>\n",
       "  <tbody>\n",
       "    <tr>\n",
       "      <th>0</th>\n",
       "      <td>Male</td>\n",
       "      <td>0-04</td>\n",
       "      <td>2010</td>\n",
       "      <td>Malaysian citizens</td>\n",
       "      <td>Bumiputera</td>\n",
       "      <td>942.030</td>\n",
       "    </tr>\n",
       "    <tr>\n",
       "      <th>1</th>\n",
       "      <td>Male</td>\n",
       "      <td>0-04</td>\n",
       "      <td>2010</td>\n",
       "      <td>Malaysian citizens</td>\n",
       "      <td>Chinese</td>\n",
       "      <td>223.155</td>\n",
       "    </tr>\n",
       "    <tr>\n",
       "      <th>2</th>\n",
       "      <td>Male</td>\n",
       "      <td>0-04</td>\n",
       "      <td>2010</td>\n",
       "      <td>Malaysian citizens</td>\n",
       "      <td>Indians</td>\n",
       "      <td>76.216</td>\n",
       "    </tr>\n",
       "    <tr>\n",
       "      <th>3</th>\n",
       "      <td>Male</td>\n",
       "      <td>0-04</td>\n",
       "      <td>2010</td>\n",
       "      <td>Malaysian citizens</td>\n",
       "      <td>Others</td>\n",
       "      <td>18.894</td>\n",
       "    </tr>\n",
       "    <tr>\n",
       "      <th>4</th>\n",
       "      <td>Male</td>\n",
       "      <td>0-04</td>\n",
       "      <td>2010</td>\n",
       "      <td>Non-Malaysian citizens</td>\n",
       "      <td>NaN</td>\n",
       "      <td>27.892</td>\n",
       "    </tr>\n",
       "  </tbody>\n",
       "</table>\n",
       "</div>"
      ],
      "text/plain": [
       "    Sex Age Group  Year        Citizen category      Ethnic  Population (000)\n",
       "0  Male      0-04  2010      Malaysian citizens  Bumiputera           942.030\n",
       "1  Male      0-04  2010      Malaysian citizens     Chinese           223.155\n",
       "2  Male      0-04  2010      Malaysian citizens     Indians            76.216\n",
       "3  Male      0-04  2010      Malaysian citizens      Others            18.894\n",
       "4  Male      0-04  2010  Non-Malaysian citizens         NaN            27.892"
      ]
     },
     "execution_count": 5,
     "metadata": {},
     "output_type": "execute_result"
    }
   ],
   "source": [
    "df.rename(columns = {'Population (\"000)':'Population (000)'}, inplace = True)\n",
    "df.head()"
   ]
  },
  {
   "cell_type": "code",
   "execution_count": 6,
   "id": "a284bacc",
   "metadata": {
    "scrolled": false
   },
   "outputs": [
    {
     "name": "stdout",
     "output_type": "stream",
     "text": [
      "<class 'pandas.core.frame.DataFrame'>\n",
      "RangeIndex: 1700 entries, 0 to 1699\n",
      "Data columns (total 6 columns):\n",
      " #   Column            Non-Null Count  Dtype  \n",
      "---  ------            --------------  -----  \n",
      " 0   Sex               1700 non-null   object \n",
      " 1   Age Group         1700 non-null   object \n",
      " 2   Year              1700 non-null   object \n",
      " 3   Citizen category  1700 non-null   object \n",
      " 4   Ethnic            1360 non-null   object \n",
      " 5   Population (000)  1700 non-null   float64\n",
      "dtypes: float64(1), object(5)\n",
      "memory usage: 79.8+ KB\n"
     ]
    }
   ],
   "source": [
    "df.info()"
   ]
  },
  {
   "cell_type": "code",
   "execution_count": 7,
   "id": "18476bd6",
   "metadata": {},
   "outputs": [
    {
     "data": {
      "text/html": [
       "<div>\n",
       "<style scoped>\n",
       "    .dataframe tbody tr th:only-of-type {\n",
       "        vertical-align: middle;\n",
       "    }\n",
       "\n",
       "    .dataframe tbody tr th {\n",
       "        vertical-align: top;\n",
       "    }\n",
       "\n",
       "    .dataframe thead th {\n",
       "        text-align: right;\n",
       "    }\n",
       "</style>\n",
       "<table border=\"1\" class=\"dataframe\">\n",
       "  <thead>\n",
       "    <tr style=\"text-align: right;\">\n",
       "      <th></th>\n",
       "      <th>Population (000)</th>\n",
       "    </tr>\n",
       "  </thead>\n",
       "  <tbody>\n",
       "    <tr>\n",
       "      <th>count</th>\n",
       "      <td>1700.000000</td>\n",
       "    </tr>\n",
       "    <tr>\n",
       "      <th>mean</th>\n",
       "      <td>181.110963</td>\n",
       "    </tr>\n",
       "    <tr>\n",
       "      <th>std</th>\n",
       "      <td>252.204346</td>\n",
       "    </tr>\n",
       "    <tr>\n",
       "      <th>min</th>\n",
       "      <td>0.595000</td>\n",
       "    </tr>\n",
       "    <tr>\n",
       "      <th>25%</th>\n",
       "      <td>14.675000</td>\n",
       "    </tr>\n",
       "    <tr>\n",
       "      <th>50%</th>\n",
       "      <td>77.800000</td>\n",
       "    </tr>\n",
       "    <tr>\n",
       "      <th>75%</th>\n",
       "      <td>232.925000</td>\n",
       "    </tr>\n",
       "    <tr>\n",
       "      <th>max</th>\n",
       "      <td>1023.700000</td>\n",
       "    </tr>\n",
       "  </tbody>\n",
       "</table>\n",
       "</div>"
      ],
      "text/plain": [
       "       Population (000)\n",
       "count       1700.000000\n",
       "mean         181.110963\n",
       "std          252.204346\n",
       "min            0.595000\n",
       "25%           14.675000\n",
       "50%           77.800000\n",
       "75%          232.925000\n",
       "max         1023.700000"
      ]
     },
     "execution_count": 7,
     "metadata": {},
     "output_type": "execute_result"
    }
   ],
   "source": [
    "df.describe()"
   ]
  },
  {
   "cell_type": "markdown",
   "id": "e425f2e0",
   "metadata": {},
   "source": [
    "# Q1 = What is the total Population in Malaysia based on Gender ?"
   ]
  },
  {
   "cell_type": "code",
   "execution_count": 8,
   "id": "21bbd906",
   "metadata": {},
   "outputs": [
    {
     "data": {
      "text/html": [
       "<div>\n",
       "<style scoped>\n",
       "    .dataframe tbody tr th:only-of-type {\n",
       "        vertical-align: middle;\n",
       "    }\n",
       "\n",
       "    .dataframe tbody tr th {\n",
       "        vertical-align: top;\n",
       "    }\n",
       "\n",
       "    .dataframe thead th {\n",
       "        text-align: right;\n",
       "    }\n",
       "</style>\n",
       "<table border=\"1\" class=\"dataframe\">\n",
       "  <thead>\n",
       "    <tr style=\"text-align: right;\">\n",
       "      <th></th>\n",
       "      <th>Population (000)</th>\n",
       "    </tr>\n",
       "    <tr>\n",
       "      <th>Sex</th>\n",
       "      <th></th>\n",
       "    </tr>\n",
       "  </thead>\n",
       "  <tbody>\n",
       "    <tr>\n",
       "      <th>Female</th>\n",
       "      <td>148936.595</td>\n",
       "    </tr>\n",
       "    <tr>\n",
       "      <th>Male</th>\n",
       "      <td>158952.042</td>\n",
       "    </tr>\n",
       "  </tbody>\n",
       "</table>\n",
       "</div>"
      ],
      "text/plain": [
       "        Population (000)\n",
       "Sex                     \n",
       "Female        148936.595\n",
       "Male          158952.042"
      ]
     },
     "execution_count": 8,
     "metadata": {},
     "output_type": "execute_result"
    }
   ],
   "source": [
    "df_sex = df.groupby(['Sex']).sum()\n",
    "df_sex"
   ]
  },
  {
   "cell_type": "code",
   "execution_count": 9,
   "id": "521f02f3",
   "metadata": {},
   "outputs": [
    {
     "data": {
      "text/plain": [
       "<AxesSubplot:title={'center':'Population based on Gender from 2010-2019'}, xlabel='Gender', ylabel='Population'>"
      ]
     },
     "execution_count": 9,
     "metadata": {},
     "output_type": "execute_result"
    },
    {
     "data": {
      "image/png": "[encoded data removed]",
      "text/plain": [
       "<Figure size 432x288 with 1 Axes>"
      ]
     },
     "metadata": {
      "needs_background": "light"
     },
     "output_type": "display_data"
    }
   ],
   "source": [
    "df_sex.plot(kind='bar', xlabel='Gender', ylabel='Population', title='Population based on Gender from 2010-2019')"
   ]
  },
  {
   "cell_type": "markdown",
   "id": "39ad4309",
   "metadata": {},
   "source": [
    "# Q2: I want to know how many population per year based on gender"
   ]
  },
  {
   "cell_type": "code",
   "execution_count": 10,
   "id": "27061d29",
   "metadata": {},
   "outputs": [
    {
     "data": {
      "text/html": [
       "<div>\n",
       "<style scoped>\n",
       "    .dataframe tbody tr th:only-of-type {\n",
       "        vertical-align: middle;\n",
       "    }\n",
       "\n",
       "    .dataframe tbody tr th {\n",
       "        vertical-align: top;\n",
       "    }\n",
       "\n",
       "    .dataframe thead tr th {\n",
       "        text-align: left;\n",
       "    }\n",
       "\n",
       "    .dataframe thead tr:last-of-type th {\n",
       "        text-align: right;\n",
       "    }\n",
       "</style>\n",
       "<table border=\"1\" class=\"dataframe\">\n",
       "  <thead>\n",
       "    <tr>\n",
       "      <th></th>\n",
       "      <th colspan=\"2\" halign=\"left\">Population (000)</th>\n",
       "    </tr>\n",
       "    <tr>\n",
       "      <th>Sex</th>\n",
       "      <th>Female</th>\n",
       "      <th>Male</th>\n",
       "    </tr>\n",
       "    <tr>\n",
       "      <th>Year</th>\n",
       "      <th></th>\n",
       "      <th></th>\n",
       "    </tr>\n",
       "  </thead>\n",
       "  <tbody>\n",
       "    <tr>\n",
       "      <th>2010</th>\n",
       "      <td>13858.095</td>\n",
       "      <td>14730.542</td>\n",
       "    </tr>\n",
       "    <tr>\n",
       "      <th>2011</th>\n",
       "      <td>14081.700</td>\n",
       "      <td>14980.200</td>\n",
       "    </tr>\n",
       "    <tr>\n",
       "      <th>2012</th>\n",
       "      <td>14294.400</td>\n",
       "      <td>15214.900</td>\n",
       "    </tr>\n",
       "    <tr>\n",
       "      <th>2013</th>\n",
       "      <td>14608.900</td>\n",
       "      <td>15605.100</td>\n",
       "    </tr>\n",
       "    <tr>\n",
       "      <th>2014</th>\n",
       "      <td>14840.600</td>\n",
       "      <td>15867.800</td>\n",
       "    </tr>\n",
       "  </tbody>\n",
       "</table>\n",
       "</div>"
      ],
      "text/plain": [
       "     Population (000)           \n",
       "Sex            Female       Male\n",
       "Year                            \n",
       "2010        13858.095  14730.542\n",
       "2011        14081.700  14980.200\n",
       "2012        14294.400  15214.900\n",
       "2013        14608.900  15605.100\n",
       "2014        14840.600  15867.800"
      ]
     },
     "execution_count": 10,
     "metadata": {},
     "output_type": "execute_result"
    }
   ],
   "source": [
    "df_pivot_year = df.pivot_table(index='Year', \n",
    "                          columns='Sex', \n",
    "                          values=['Population (000)'], \n",
    "                          aggfunc='sum')\n",
    "df_pivot_year.head()"
   ]
  },
  {
   "cell_type": "code",
   "execution_count": 11,
   "id": "5d1c5ff4",
   "metadata": {},
   "outputs": [
    {
     "data": {
      "text/plain": [
       "<AxesSubplot:title={'center':'Population in Malaysia from 2010-2019'}, xlabel='Year', ylabel='Population (000)'>"
      ]
     },
     "execution_count": 11,
     "metadata": {},
     "output_type": "execute_result"
    },
    {
     "data": {
      "image/png": "[encoded data removed]",
      "text/plain": [
       "<Figure size 720x432 with 1 Axes>"
      ]
     },
     "metadata": {
      "needs_background": "light"
     },
     "output_type": "display_data"
    }
   ],
   "source": [
    "df_pivot_year.plot(kind='line', xlabel='Year', ylabel='Population (000)', title='Population in Malaysia from 2010-2019',\n",
    "             figsize=(10,6))"
   ]
  },
  {
   "cell_type": "markdown",
   "id": "16469c68",
   "metadata": {},
   "source": [
    "# Q3: I want to know the age group of the total population in Malaysia"
   ]
  },
  {
   "cell_type": "code",
   "execution_count": 12,
   "id": "8cfc8056",
   "metadata": {
    "scrolled": false
   },
   "outputs": [
    {
     "data": {
      "text/html": [
       "<div>\n",
       "<style scoped>\n",
       "    .dataframe tbody tr th:only-of-type {\n",
       "        vertical-align: middle;\n",
       "    }\n",
       "\n",
       "    .dataframe tbody tr th {\n",
       "        vertical-align: top;\n",
       "    }\n",
       "\n",
       "    .dataframe thead th {\n",
       "        text-align: right;\n",
       "    }\n",
       "</style>\n",
       "<table border=\"1\" class=\"dataframe\">\n",
       "  <thead>\n",
       "    <tr style=\"text-align: right;\">\n",
       "      <th>Sex</th>\n",
       "      <th>Female</th>\n",
       "      <th>Male</th>\n",
       "    </tr>\n",
       "    <tr>\n",
       "      <th>Age Group</th>\n",
       "      <th></th>\n",
       "      <th></th>\n",
       "    </tr>\n",
       "  </thead>\n",
       "  <tbody>\n",
       "    <tr>\n",
       "      <th>0-04</th>\n",
       "      <td>12426.707</td>\n",
       "      <td>13241.787</td>\n",
       "    </tr>\n",
       "    <tr>\n",
       "      <th>05-09</th>\n",
       "      <td>12424.244</td>\n",
       "      <td>13175.236</td>\n",
       "    </tr>\n",
       "    <tr>\n",
       "      <th>10-14</th>\n",
       "      <td>12780.638</td>\n",
       "      <td>13467.352</td>\n",
       "    </tr>\n",
       "    <tr>\n",
       "      <th>15-19</th>\n",
       "      <td>13824.914</td>\n",
       "      <td>14757.862</td>\n",
       "    </tr>\n",
       "    <tr>\n",
       "      <th>20-24</th>\n",
       "      <td>14947.565</td>\n",
       "      <td>16418.892</td>\n",
       "    </tr>\n",
       "  </tbody>\n",
       "</table>\n",
       "</div>"
      ],
      "text/plain": [
       "Sex           Female       Male\n",
       "Age Group                      \n",
       "0-04       12426.707  13241.787\n",
       "05-09      12424.244  13175.236\n",
       "10-14      12780.638  13467.352\n",
       "15-19      13824.914  14757.862\n",
       "20-24      14947.565  16418.892"
      ]
     },
     "execution_count": 12,
     "metadata": {},
     "output_type": "execute_result"
    }
   ],
   "source": [
    "df_pivot_age_group = df.pivot_table(index='Age Group', \n",
    "                          columns='Sex', values='Population (000)', \n",
    "                          aggfunc='sum')\n",
    "df_pivot_age_group.head()"
   ]
  },
  {
   "cell_type": "code",
   "execution_count": 22,
   "id": "b4419dd5",
   "metadata": {
    "scrolled": true
   },
   "outputs": [
    {
     "name": "stdout",
     "output_type": "stream",
     "text": [
      "<class 'pandas.core.frame.DataFrame'>\n",
      "Index: 17 entries, 0-04 to 80+\n",
      "Data columns (total 2 columns):\n",
      " #   Column  Non-Null Count  Dtype  \n",
      "---  ------  --------------  -----  \n",
      " 0   Female  17 non-null     float64\n",
      " 1   Male    17 non-null     float64\n",
      "dtypes: float64(2)\n",
      "memory usage: 408.0+ bytes\n"
     ]
    }
   ],
   "source": [
    "df_pivot_age_group.info()"
   ]
  },
  {
   "cell_type": "code",
   "execution_count": 23,
   "id": "3762b9ec",
   "metadata": {
    "scrolled": true
   },
   "outputs": [
    {
     "data": {
      "text/plain": [
       "Index(['0-04', '05-09', '10-14', '15-19', '20-24', '25-29', '30-34', '35-39',\n",
       "       '40-44', '45-49', '50-54', '55-59', '60-64', '65-69', '70-74', '75-79',\n",
       "       '80+'],\n",
       "      dtype='object', name='Age Group')"
      ]
     },
     "execution_count": 23,
     "metadata": {},
     "output_type": "execute_result"
    }
   ],
   "source": [
    "df_pivot_age_group.index"
   ]
  },
  {
   "cell_type": "code",
   "execution_count": 24,
   "id": "7d65c0d1",
   "metadata": {},
   "outputs": [
    {
     "data": {
      "text/plain": [
       "Index(['Female', 'Male'], dtype='object', name='Sex')"
      ]
     },
     "execution_count": 24,
     "metadata": {},
     "output_type": "execute_result"
    }
   ],
   "source": [
    "df_pivot_age_group.columns"
   ]
  },
  {
   "cell_type": "code",
   "execution_count": 17,
   "id": "1ed409ad",
   "metadata": {},
   "outputs": [
    {
     "data": {
      "text/plain": [
       "<AxesSubplot:title={'center':'Population in Malaysia from 2010-2019'}, xlabel='Age Group', ylabel='Population (000)'>"
      ]
     },
     "execution_count": 17,
     "metadata": {},
     "output_type": "execute_result"
    },
    {
     "data": {
      "image/png": "[encoded data removed]",
      "text/plain": [
       "<Figure size 720x432 with 1 Axes>"
      ]
     },
     "metadata": {
      "needs_background": "light"
     },
     "output_type": "display_data"
    }
   ],
   "source": [
    "df_pivot_age_group.plot(kind='line', xlabel='Age Group', ylabel='Population (000)', title='Population in Malaysia from 2010-2019',\n",
    "             figsize=(10,6))\n"
   ]
  },
  {
   "cell_type": "markdown",
   "id": "90c4f82c",
   "metadata": {},
   "source": [
    "# Q4: I want to know the Major Ethnicity of the total population in Malaysia"
   ]
  },
  {
   "cell_type": "code",
   "execution_count": 14,
   "id": "c840f7d6",
   "metadata": {},
   "outputs": [
    {
     "data": {
      "text/html": [
       "<div>\n",
       "<style scoped>\n",
       "    .dataframe tbody tr th:only-of-type {\n",
       "        vertical-align: middle;\n",
       "    }\n",
       "\n",
       "    .dataframe tbody tr th {\n",
       "        vertical-align: top;\n",
       "    }\n",
       "\n",
       "    .dataframe thead th {\n",
       "        text-align: right;\n",
       "    }\n",
       "</style>\n",
       "<table border=\"1\" class=\"dataframe\">\n",
       "  <thead>\n",
       "    <tr style=\"text-align: right;\">\n",
       "      <th>Sex</th>\n",
       "      <th>Female</th>\n",
       "      <th>Male</th>\n",
       "    </tr>\n",
       "    <tr>\n",
       "      <th>Ethnic</th>\n",
       "      <th></th>\n",
       "      <th></th>\n",
       "    </tr>\n",
       "  </thead>\n",
       "  <tbody>\n",
       "    <tr>\n",
       "      <th>Bumiputera</th>\n",
       "      <td>94315.972</td>\n",
       "      <td>95882.227</td>\n",
       "    </tr>\n",
       "    <tr>\n",
       "      <th>Chinese</th>\n",
       "      <td>32004.744</td>\n",
       "      <td>33856.045</td>\n",
       "    </tr>\n",
       "    <tr>\n",
       "      <th>Indians</th>\n",
       "      <td>9897.893</td>\n",
       "      <td>9863.206</td>\n",
       "    </tr>\n",
       "    <tr>\n",
       "      <th>Others</th>\n",
       "      <td>1306.250</td>\n",
       "      <td>1373.360</td>\n",
       "    </tr>\n",
       "  </tbody>\n",
       "</table>\n",
       "</div>"
      ],
      "text/plain": [
       "Sex            Female       Male\n",
       "Ethnic                          \n",
       "Bumiputera  94315.972  95882.227\n",
       "Chinese     32004.744  33856.045\n",
       "Indians      9897.893   9863.206\n",
       "Others       1306.250   1373.360"
      ]
     },
     "execution_count": 14,
     "metadata": {},
     "output_type": "execute_result"
    }
   ],
   "source": [
    "df_pivot_ethnic = df.pivot_table(index='Ethnic', \n",
    "                          columns='Sex', values='Population (000)', \n",
    "                          aggfunc='sum')\n",
    "df_pivot_ethnic"
   ]
  },
  {
   "cell_type": "code",
   "execution_count": 15,
   "id": "e688e073",
   "metadata": {},
   "outputs": [
    {
     "data": {
      "text/plain": [
       "<AxesSubplot:xlabel='Ethnic'>"
      ]
     },
     "execution_count": 15,
     "metadata": {},
     "output_type": "execute_result"
    },
    {
     "data": {
      "image/png": "[encoded data removed]",
      "text/plain": [
       "<Figure size 432x288 with 1 Axes>"
      ]
     },
     "metadata": {
      "needs_background": "light"
     },
     "output_type": "display_data"
    }
   ],
   "source": [
    "df_pivot_ethnic.plot(kind='bar')"
   ]
  },
  {
   "cell_type": "markdown",
   "id": "e2190c46",
   "metadata": {},
   "source": [
    "# I wanna try predict growth population in Malaysia based on linear regression...."
   ]
  },
  {
   "cell_type": "markdown",
   "id": "57171c70",
   "metadata": {},
   "source": [
    "### Import data first"
   ]
  },
  {
   "cell_type": "code",
   "execution_count": 16,
   "id": "310c0dd3",
   "metadata": {},
   "outputs": [],
   "source": [
    "df_predict = pd.read_excel(r'C:\\Users\\ASUS\\OneDrive - sjvschoolo.sjvschoolo\\Documents\\Anaconda\\#3\\Population_by_age_group_sex_and_ethnic_group_2010-2019e_Malaysia (1).xlsx')"
   ]
  },
  {
   "cell_type": "code",
   "execution_count": 17,
   "id": "6b882c33",
   "metadata": {},
   "outputs": [
    {
     "data": {
      "text/html": [
       "<div>\n",
       "<style scoped>\n",
       "    .dataframe tbody tr th:only-of-type {\n",
       "        vertical-align: middle;\n",
       "    }\n",
       "\n",
       "    .dataframe tbody tr th {\n",
       "        vertical-align: top;\n",
       "    }\n",
       "\n",
       "    .dataframe thead th {\n",
       "        text-align: right;\n",
       "    }\n",
       "</style>\n",
       "<table border=\"1\" class=\"dataframe\">\n",
       "  <thead>\n",
       "    <tr style=\"text-align: right;\">\n",
       "      <th></th>\n",
       "      <th>Year</th>\n",
       "      <th>Population (000)</th>\n",
       "    </tr>\n",
       "  </thead>\n",
       "  <tbody>\n",
       "    <tr>\n",
       "      <th>0</th>\n",
       "      <td>2010</td>\n",
       "      <td>942.030</td>\n",
       "    </tr>\n",
       "    <tr>\n",
       "      <th>1</th>\n",
       "      <td>2010</td>\n",
       "      <td>223.155</td>\n",
       "    </tr>\n",
       "    <tr>\n",
       "      <th>2</th>\n",
       "      <td>2010</td>\n",
       "      <td>76.216</td>\n",
       "    </tr>\n",
       "    <tr>\n",
       "      <th>3</th>\n",
       "      <td>2010</td>\n",
       "      <td>18.894</td>\n",
       "    </tr>\n",
       "    <tr>\n",
       "      <th>4</th>\n",
       "      <td>2010</td>\n",
       "      <td>27.892</td>\n",
       "    </tr>\n",
       "  </tbody>\n",
       "</table>\n",
       "</div>"
      ],
      "text/plain": [
       "   Year  Population (000)\n",
       "0  2010           942.030\n",
       "1  2010           223.155\n",
       "2  2010            76.216\n",
       "3  2010            18.894\n",
       "4  2010            27.892"
      ]
     },
     "execution_count": 17,
     "metadata": {},
     "output_type": "execute_result"
    }
   ],
   "source": [
    "df_predict.head()"
   ]
  },
  {
   "cell_type": "markdown",
   "id": "de8e8c2e",
   "metadata": {},
   "source": [
    "### Sum up all the populations data by year"
   ]
  },
  {
   "cell_type": "code",
   "execution_count": 18,
   "id": "d92a665f",
   "metadata": {},
   "outputs": [
    {
     "data": {
      "text/html": [
       "<div>\n",
       "<style scoped>\n",
       "    .dataframe tbody tr th:only-of-type {\n",
       "        vertical-align: middle;\n",
       "    }\n",
       "\n",
       "    .dataframe tbody tr th {\n",
       "        vertical-align: top;\n",
       "    }\n",
       "\n",
       "    .dataframe thead th {\n",
       "        text-align: right;\n",
       "    }\n",
       "</style>\n",
       "<table border=\"1\" class=\"dataframe\">\n",
       "  <thead>\n",
       "    <tr style=\"text-align: right;\">\n",
       "      <th></th>\n",
       "      <th>Population (000)</th>\n",
       "    </tr>\n",
       "    <tr>\n",
       "      <th>Year</th>\n",
       "      <th></th>\n",
       "    </tr>\n",
       "  </thead>\n",
       "  <tbody>\n",
       "    <tr>\n",
       "      <th>2010</th>\n",
       "      <td>28588.637</td>\n",
       "    </tr>\n",
       "    <tr>\n",
       "      <th>2011</th>\n",
       "      <td>29061.900</td>\n",
       "    </tr>\n",
       "    <tr>\n",
       "      <th>2012</th>\n",
       "      <td>29509.300</td>\n",
       "    </tr>\n",
       "    <tr>\n",
       "      <th>2013</th>\n",
       "      <td>30214.000</td>\n",
       "    </tr>\n",
       "    <tr>\n",
       "      <th>2014</th>\n",
       "      <td>30708.400</td>\n",
       "    </tr>\n",
       "    <tr>\n",
       "      <th>2015</th>\n",
       "      <td>31186.400</td>\n",
       "    </tr>\n",
       "    <tr>\n",
       "      <th>2016</th>\n",
       "      <td>31633.300</td>\n",
       "    </tr>\n",
       "    <tr>\n",
       "      <th>2017</th>\n",
       "      <td>32022.400</td>\n",
       "    </tr>\n",
       "    <tr>\n",
       "      <th>2018</th>\n",
       "      <td>32382.300</td>\n",
       "    </tr>\n",
       "    <tr>\n",
       "      <th>2019</th>\n",
       "      <td>32582.000</td>\n",
       "    </tr>\n",
       "  </tbody>\n",
       "</table>\n",
       "</div>"
      ],
      "text/plain": [
       "      Population (000)\n",
       "Year                  \n",
       "2010         28588.637\n",
       "2011         29061.900\n",
       "2012         29509.300\n",
       "2013         30214.000\n",
       "2014         30708.400\n",
       "2015         31186.400\n",
       "2016         31633.300\n",
       "2017         32022.400\n",
       "2018         32382.300\n",
       "2019         32582.000"
      ]
     },
     "execution_count": 18,
     "metadata": {},
     "output_type": "execute_result"
    }
   ],
   "source": [
    "df_predict = df_predict.groupby('Year').sum()\n",
    "df_predict"
   ]
  },
  {
   "cell_type": "markdown",
   "id": "f19247a9",
   "metadata": {},
   "source": [
    "### Make new data frame set"
   ]
  },
  {
   "cell_type": "code",
   "execution_count": 19,
   "id": "91b8cf23",
   "metadata": {},
   "outputs": [],
   "source": [
    "df_predict = df_predict['Population (000)'].to_frame(name = 'Population').reset_index()"
   ]
  },
  {
   "cell_type": "code",
   "execution_count": 20,
   "id": "cc5fc96f",
   "metadata": {},
   "outputs": [
    {
     "data": {
      "text/html": [
       "<div>\n",
       "<style scoped>\n",
       "    .dataframe tbody tr th:only-of-type {\n",
       "        vertical-align: middle;\n",
       "    }\n",
       "\n",
       "    .dataframe tbody tr th {\n",
       "        vertical-align: top;\n",
       "    }\n",
       "\n",
       "    .dataframe thead th {\n",
       "        text-align: right;\n",
       "    }\n",
       "</style>\n",
       "<table border=\"1\" class=\"dataframe\">\n",
       "  <thead>\n",
       "    <tr style=\"text-align: right;\">\n",
       "      <th></th>\n",
       "      <th>Year</th>\n",
       "      <th>Population</th>\n",
       "    </tr>\n",
       "  </thead>\n",
       "  <tbody>\n",
       "    <tr>\n",
       "      <th>0</th>\n",
       "      <td>2010</td>\n",
       "      <td>28588.637</td>\n",
       "    </tr>\n",
       "    <tr>\n",
       "      <th>1</th>\n",
       "      <td>2011</td>\n",
       "      <td>29061.900</td>\n",
       "    </tr>\n",
       "    <tr>\n",
       "      <th>2</th>\n",
       "      <td>2012</td>\n",
       "      <td>29509.300</td>\n",
       "    </tr>\n",
       "    <tr>\n",
       "      <th>3</th>\n",
       "      <td>2013</td>\n",
       "      <td>30214.000</td>\n",
       "    </tr>\n",
       "    <tr>\n",
       "      <th>4</th>\n",
       "      <td>2014</td>\n",
       "      <td>30708.400</td>\n",
       "    </tr>\n",
       "    <tr>\n",
       "      <th>5</th>\n",
       "      <td>2015</td>\n",
       "      <td>31186.400</td>\n",
       "    </tr>\n",
       "    <tr>\n",
       "      <th>6</th>\n",
       "      <td>2016</td>\n",
       "      <td>31633.300</td>\n",
       "    </tr>\n",
       "    <tr>\n",
       "      <th>7</th>\n",
       "      <td>2017</td>\n",
       "      <td>32022.400</td>\n",
       "    </tr>\n",
       "    <tr>\n",
       "      <th>8</th>\n",
       "      <td>2018</td>\n",
       "      <td>32382.300</td>\n",
       "    </tr>\n",
       "    <tr>\n",
       "      <th>9</th>\n",
       "      <td>2019</td>\n",
       "      <td>32582.000</td>\n",
       "    </tr>\n",
       "  </tbody>\n",
       "</table>\n",
       "</div>"
      ],
      "text/plain": [
       "   Year  Population\n",
       "0  2010   28588.637\n",
       "1  2011   29061.900\n",
       "2  2012   29509.300\n",
       "3  2013   30214.000\n",
       "4  2014   30708.400\n",
       "5  2015   31186.400\n",
       "6  2016   31633.300\n",
       "7  2017   32022.400\n",
       "8  2018   32382.300\n",
       "9  2019   32582.000"
      ]
     },
     "execution_count": 20,
     "metadata": {},
     "output_type": "execute_result"
    }
   ],
   "source": [
    "df_predict"
   ]
  },
  {
   "cell_type": "markdown",
   "id": "bd32d668",
   "metadata": {},
   "source": [
    "### Use sk-learn method (Linear Regression Algorithm Method)"
   ]
  },
  {
   "cell_type": "code",
   "execution_count": 21,
   "id": "f56a474c",
   "metadata": {},
   "outputs": [],
   "source": [
    "# make list out of the dataframe set\n",
    "\n",
    "year_list = df_predict['Year'].tolist()\n",
    "population_list = df_predict['Population'].tolist()"
   ]
  },
  {
   "cell_type": "code",
   "execution_count": 22,
   "id": "552eb646",
   "metadata": {},
   "outputs": [],
   "source": [
    "# create numpy array for year(target) column and population column(feature)\n",
    "\n",
    "xs = np.array(year_list, dtype=np.float64)\n",
    "ys = np.array(population_list, dtype=np.float64)"
   ]
  },
  {
   "cell_type": "code",
   "execution_count": 23,
   "id": "bc0d04f3",
   "metadata": {},
   "outputs": [
    {
     "data": {
      "text/plain": [
       "((10,), (10,))"
      ]
     },
     "execution_count": 23,
     "metadata": {},
     "output_type": "execute_result"
    }
   ],
   "source": [
    "# 1D array created\n",
    "xs.shape, ys.shape"
   ]
  },
  {
   "cell_type": "code",
   "execution_count": 24,
   "id": "2a334a9a",
   "metadata": {},
   "outputs": [],
   "source": [
    "xs = xs.reshape((-1,1))"
   ]
  },
  {
   "cell_type": "code",
   "execution_count": 25,
   "id": "3e1fa0d7",
   "metadata": {},
   "outputs": [
    {
     "name": "stdout",
     "output_type": "stream",
     "text": [
      "34265.43038181821\n"
     ]
    }
   ],
   "source": [
    "import seaborn as sns\n",
    "from matplotlib import style\n",
    "# from statistics import mean\n",
    "from sklearn import linear_model\n",
    "\n",
    "# Create linear regression object\n",
    "population_year = linear_model.LinearRegression()\n",
    "\n",
    "# Train the model using the training sets\n",
    "population_year.fit(xs,ys)\n",
    "\n",
    "# get the regression line using the model\n",
    "regression_line = population_year.predict(xs)\n",
    "\n",
    "# Making predictions\n",
    "predict_year = 2022\n",
    "predict_population = population_year.predict(np.array([[predict_year]]))[0]\n",
    "print(predict_population)\n"
   ]
  },
  {
   "cell_type": "code",
   "execution_count": 26,
   "id": "e81fc518",
   "metadata": {},
   "outputs": [
    {
     "data": {
      "image/png": "[encoded data removed]",
      "text/plain": [
       "<Figure size 576x396 with 1 Axes>"
      ]
     },
     "metadata": {},
     "output_type": "display_data"
    }
   ],
   "source": [
    "style.use('seaborn')\n",
    "plt.scatter(xs, ys, label='Data Points', alpha=0.6, color='green', s=75)\n",
    "plt.scatter(predict_year, predict_population, label='prediction', color='red', s=100)\n",
    "plt.plot(xs, regression_line, label='Best Fit Line', color='orange', linewidth=4)\n",
    "plt.title('Population over year linear regression')\n",
    "plt.xlabel('Year')\n",
    "plt.ylabel('Population (000)')\n",
    "plt.legend()\n",
    "plt.show()"
   ]
  },
  {
   "cell_type": "markdown",
   "id": "91fa7420",
   "metadata": {},
   "source": [
    "## From the prediction above we can see that total population in Malaysia will be 34, 356, 000 (34.4 million)"
   ]
  }
 ],
 "metadata": {
  "celltoolbar": "Slideshow",
  "kernelspec": {
   "display_name": "Python 3 (ipykernel)",
   "language": "python",
   "name": "python3"
  },
  "language_info": {
   "codemirror_mode": {
    "name": "ipython",
    "version": 3
   },
   "file_extension": ".py",
   "mimetype": "text/x-python",
   "name": "python",
   "nbconvert_exporter": "python",
   "pygments_lexer": "ipython3",
   "version": "3.9.7"
  }
 },
 "nbformat": 4,
 "nbformat_minor": 5
}
